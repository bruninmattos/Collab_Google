{
  "nbformat": 4,
  "nbformat_minor": 0,
  "metadata": {
    "colab": {
      "name": "Price_Stocks_Learning.ipynb",
      "provenance": [],
      "authorship_tag": "ABX9TyOIw4MkNc8CdeXbfKqpauS7",
      "include_colab_link": true
    },
    "kernelspec": {
      "name": "python3",
      "display_name": "Python 3"
    },
    "language_info": {
      "name": "python"
    }
  },
  "cells": [
    {
      "cell_type": "markdown",
      "metadata": {
        "id": "view-in-github",
        "colab_type": "text"
      },
      "source": [
        "<a href=\"https://colab.research.google.com/github/bruninmattos/Collab_Google/blob/main/Price_Stocks_Learning.ipynb\" target=\"_parent\"><img src=\"https://colab.research.google.com/assets/colab-badge.svg\" alt=\"Open In Colab\"/></a>"
      ]
    },
    {
      "cell_type": "code",
      "metadata": {
        "id": "UviJBF0beVeN"
      },
      "source": [
        "#Analise preditiva utilizando machile learning e analises preditvas para proposta de compra conforme preço de fechamento de uma ação\n",
        "# utilizando ultimos 60 dias para analise e proposta de preço utilizando LSTM (Long short term memory)"
      ],
      "execution_count": null,
      "outputs": []
    },
    {
      "cell_type": "code",
      "metadata": {
        "id": "AW8dw804fFoZ"
      },
      "source": [
        "#Importanto bibliotecas\n",
        "import math\n",
        "from pandas_datareader import data as web\n",
        "import numpy as np\n",
        "import pandas as pd\n",
        "from datatime import datetime as dt, timedelta\n",
        "import datascience\n",
        "from sklearn.preprocessing import MinMaxScaler\n",
        "from keras.models import Sequential\n",
        "from keras.layers import Dense, LSTM\n",
        "import matplotlib.pyplot as plt\n",
        "plt.style.use('fivethirtyeight')"
      ],
      "execution_count": 9,
      "outputs": []
    },
    {
      "cell_type": "code",
      "metadata": {
        "colab": {
          "base_uri": "https://localhost:8080/",
          "height": 249
        },
        "id": "1rAfIBeQ3Veb",
        "outputId": "46763691-2558-4d6d-e3c0-7749bd6df231"
      },
      "source": [
        "#Input parameters\n",
        "\n",
        "#start_date = dt.datatime('2015, 01, 01')\n",
        "#end_date = dt.datatime(date) #Mudar esta variável antes de rodar com data atual\n",
        "#df = web.DataReader('AAPL', data_source='yahoo', start_date, end_date)\n",
        "#start_date = dt.datetime(2015, 1, 1)\n",
        "#end_date = dt.datetime(2021, 7, 15)\n",
        "\n",
        "#start_date = input(\"Data de Início - (Formato AAAA-MM-DD)\")\n",
        "#year, month, day = map(int, date.split('-'))\n",
        "#start_date = dt.date(year, month, day)\n",
        "\n",
        "end_date = dt.datetime.today()\n",
        "\n",
        "per_ant = int(input(\"Período a ser analisado\"))\n",
        "start_date = end_date - timedelta(days=per_ant)\n",
        "\n",
        "print(start_date)\n",
        "print(end_date)"
      ],
      "execution_count": 16,
      "outputs": [
        {
          "output_type": "stream",
          "text": [
            "Período a ser analisado5\n"
          ],
          "name": "stdout"
        },
        {
          "output_type": "error",
          "ename": "NameError",
          "evalue": "ignored",
          "traceback": [
            "\u001b[0;31m---------------------------------------------------------------------------\u001b[0m",
            "\u001b[0;31mNameError\u001b[0m                                 Traceback (most recent call last)",
            "\u001b[0;32m<ipython-input-16-d74561a09bbe>\u001b[0m in \u001b[0;36m<module>\u001b[0;34m()\u001b[0m\n\u001b[1;32m     14\u001b[0m \u001b[0;34m\u001b[0m\u001b[0m\n\u001b[1;32m     15\u001b[0m \u001b[0mper_ant\u001b[0m \u001b[0;34m=\u001b[0m \u001b[0mint\u001b[0m\u001b[0;34m(\u001b[0m\u001b[0minput\u001b[0m\u001b[0;34m(\u001b[0m\u001b[0;34m\"Período a ser analisado\"\u001b[0m\u001b[0;34m)\u001b[0m\u001b[0;34m)\u001b[0m\u001b[0;34m\u001b[0m\u001b[0;34m\u001b[0m\u001b[0m\n\u001b[0;32m---> 16\u001b[0;31m \u001b[0mstart_date\u001b[0m \u001b[0;34m=\u001b[0m \u001b[0mend_date\u001b[0m \u001b[0;34m-\u001b[0m \u001b[0mtimedelta\u001b[0m\u001b[0;34m(\u001b[0m\u001b[0mdays\u001b[0m\u001b[0;34m=\u001b[0m\u001b[0mper_ant\u001b[0m\u001b[0;34m)\u001b[0m\u001b[0;34m\u001b[0m\u001b[0;34m\u001b[0m\u001b[0m\n\u001b[0m\u001b[1;32m     17\u001b[0m \u001b[0;34m\u001b[0m\u001b[0m\n\u001b[1;32m     18\u001b[0m \u001b[0mprint\u001b[0m\u001b[0;34m(\u001b[0m\u001b[0mstart_date\u001b[0m\u001b[0;34m)\u001b[0m\u001b[0;34m\u001b[0m\u001b[0;34m\u001b[0m\u001b[0m\n",
            "\u001b[0;31mNameError\u001b[0m: name 'timedelta' is not defined"
          ]
        }
      ]
    },
    {
      "cell_type": "code",
      "metadata": {
        "id": "Nh9d4aYYkrJM"
      },
      "source": [
        "#Buscando histórico de ações no site do yahoo\n",
        "\n",
        "\n",
        "#df = web.DataReader('MSFT', 'yahoo', start_date, end_date)\n",
        "#panel_data = data.DataReader('SPY', 'google', start_date, end_date)\n",
        "\n",
        "df = web.get_data_yahoo('SPY', start_date, end_date)\n",
        "\n",
        "df.to_frame().head(9)"
      ],
      "execution_count": null,
      "outputs": []
    }
  ]
}